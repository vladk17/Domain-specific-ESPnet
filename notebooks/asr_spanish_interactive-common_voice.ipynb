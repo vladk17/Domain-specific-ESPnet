{
 "cells": [
  {
   "cell_type": "markdown",
   "metadata": {},
   "source": [
    "https://voice.mozilla.org/en/datasets"
   ]
  },
  {
   "cell_type": "markdown",
   "metadata": {},
   "source": [
    "### Content\n",
    "Total hours: ? h.\n",
    "\n",
    "Language: Spanish.\n",
    "\n",
    "Number of speakers: ???.\n",
    "\n",
    "Type of speech: ??? # Clean speech.\n",
    "\n",
    "\n",
    "#### Collection methodology\n",
    "\n",
    "????\n",
    "\n",
    "### Extra\n",
    "Collected by: \n",
    "\n",
    "### License\n",
    "License : Public Domain"
   ]
  },
  {
   "cell_type": "markdown",
   "metadata": {},
   "source": [
    "### Downloading \n",
    "#### Method \n"
   ]
  },
  {
   "cell_type": "code",
   "execution_count": null,
   "metadata": {},
   "outputs": [],
   "source": [
    "import glob\n",
    "import os\n",
    "#import subprocess\n",
    "#import tarfile\n",
    "#import wget"
   ]
  },
  {
   "cell_type": "code",
   "execution_count": null,
   "metadata": {},
   "outputs": [],
   "source": [
    "#%matplotlib inline\n",
    "import librosa\n",
    "import librosa.display\n",
    "import matplotlib.pyplot as plt\n",
    "import numpy as np\n",
    "import pandas as pd\n",
    "import IPython.display as ipd\n",
    "from ipywidgets import interact\n",
    "import ipywidgets as widgets\n",
    "import re"
   ]
  },
  {
   "cell_type": "code",
   "execution_count": null,
   "metadata": {},
   "outputs": [],
   "source": [
    "import soundfile as sf\n",
    "#import IPython.display as ipd\n",
    "#from ipywidgets import interact\n",
    "#import ipywidgets as widgets\n",
    "from pathlib import Path\n"
   ]
  },
  {
   "cell_type": "code",
   "execution_count": null,
   "metadata": {
    "scrolled": true
   },
   "outputs": [],
   "source": [
    "%ls"
   ]
  },
  {
   "cell_type": "code",
   "execution_count": null,
   "metadata": {},
   "outputs": [],
   "source": [
    "#%ls asr-spanish-v1-carlfm01\\audios\\0000df16-47ea-428f-8367-df2ce365d5c4.wav"
   ]
  },
  {
   "cell_type": "code",
   "execution_count": null,
   "metadata": {},
   "outputs": [],
   "source": [
    "#%ls asr-spanish-v1-carlfm01\\asr-spanish-v1-carlfm01\\audios\\0000df16-47ea-428f-8367-df2ce365d5c4.wav"
   ]
  },
  {
   "cell_type": "code",
   "execution_count": null,
   "metadata": {},
   "outputs": [],
   "source": [
    "pwd"
   ]
  },
  {
   "cell_type": "code",
   "execution_count": null,
   "metadata": {},
   "outputs": [],
   "source": [
    "egg_folder_name = os.path.join('/gong-asr/kaldi-12/Domain-specific-ESPnet','espnet','egs',\n",
    "                        'spanish_common_voice','asr1')\n",
    "\n",
    "data_folder_name = os.path.join(egg_folder_name, 'raw_data', 'CommonVoiceSpanish', 'decompressed')\n",
    "\n",
    "kaldi_ready_data_folder_name = os.path.join(egg_folder_name, 'data')"
   ]
  },
  {
   "cell_type": "code",
   "execution_count": null,
   "metadata": {},
   "outputs": [],
   "source": [
    "! ls -l {data_folder_name} | wc -l"
   ]
  },
  {
   "cell_type": "code",
   "execution_count": null,
   "metadata": {},
   "outputs": [],
   "source": [
    "description_file_name = os.path.join(data_folder_name,'train.tsv')"
   ]
  },
  {
   "cell_type": "code",
   "execution_count": null,
   "metadata": {},
   "outputs": [],
   "source": [
    "%ls -l {description_file_name}"
   ]
  },
  {
   "cell_type": "code",
   "execution_count": null,
   "metadata": {},
   "outputs": [],
   "source": [
    "df = pd.read_csv(description_file_name, sep='\\\\t')"
   ]
  },
  {
   "cell_type": "code",
   "execution_count": null,
   "metadata": {
    "scrolled": true
   },
   "outputs": [],
   "source": [
    "df.head()"
   ]
  },
  {
   "cell_type": "code",
   "execution_count": null,
   "metadata": {},
   "outputs": [],
   "source": [
    "len(df.index) == len(set(df.index))"
   ]
  },
  {
   "cell_type": "code",
   "execution_count": null,
   "metadata": {},
   "outputs": [],
   "source": [
    "df_raw = df.loc[df.index[0]]\n",
    "df_raw"
   ]
  },
  {
   "cell_type": "code",
   "execution_count": null,
   "metadata": {},
   "outputs": [],
   "source": [
    "def segment_by_df_raw(df_raw):\n",
    "    audio, sample_rate = librosa.load(os.path.join(data_folder_name,'clips',df_raw.path))\n",
    "    plt.rcParams['figure.figsize'] = (15,7)\n",
    "    plt.title(f'Waveform of Audio Example: {df_raw[\"path\"]}')\n",
    "    plt.ylabel('Amplitude')\n",
    "\n",
    "    print(df_raw['sentence'])\n",
    "    print(f'sample_rate: {sample_rate}')\n",
    "    _ = librosa.display.waveplot(audio)\n",
    "    return ipd.Audio(audio, rate=sample_rate)"
   ]
  },
  {
   "cell_type": "code",
   "execution_count": null,
   "metadata": {},
   "outputs": [],
   "source": [
    "segment_by_df_raw(df_raw)"
   ]
  },
  {
   "cell_type": "code",
   "execution_count": null,
   "metadata": {},
   "outputs": [],
   "source": []
  },
  {
   "cell_type": "code",
   "execution_count": null,
   "metadata": {},
   "outputs": [],
   "source": [
    "def segment_by_idx(idx):\n",
    "    return segment_by_df_raw(df.iloc[idx])"
   ]
  },
  {
   "cell_type": "code",
   "execution_count": null,
   "metadata": {
    "scrolled": false
   },
   "outputs": [],
   "source": [
    "interact(segment_by_idx, idx=widgets.IntSlider(min=0, max=df.shape[0]-1, step=1, value=0));"
   ]
  },
  {
   "cell_type": "code",
   "execution_count": null,
   "metadata": {},
   "outputs": [],
   "source": []
  },
  {
   "cell_type": "code",
   "execution_count": null,
   "metadata": {},
   "outputs": [],
   "source": [
    "train_test = 'test'\n",
    "kaldi_ready_md_folder = os.path.join(kaldi_ready_data_folder_name, 'test')\n",
    "kaldi_ready_audio_folder = os.path.join(kaldi_ready_data_folder_name, 'test')"
   ]
  },
  {
   "cell_type": "code",
   "execution_count": null,
   "metadata": {},
   "outputs": [],
   "source": [
    "! ls -l {kaldi_ready_md_folder}"
   ]
  },
  {
   "cell_type": "code",
   "execution_count": null,
   "metadata": {},
   "outputs": [],
   "source": [
    "! head -n5 {os.path.join(kaldi_ready_md_folder, 'wav.scp')}"
   ]
  },
  {
   "cell_type": "code",
   "execution_count": null,
   "metadata": {},
   "outputs": [],
   "source": [
    "! head -n5 {os.path.join(kaldi_ready_md_folder, 'text')}"
   ]
  },
  {
   "cell_type": "code",
   "execution_count": null,
   "metadata": {},
   "outputs": [],
   "source": [
    "wavscp_df = pd.read_csv(os.path.join(kaldi_ready_md_folder, 'wav.scp'), sep=' ',header=None)\\\n",
    ".set_index(0)\n",
    "wavscp_df.columns = ['wav']\n",
    "wavscp_df.head()"
   ]
  },
  {
   "cell_type": "code",
   "execution_count": null,
   "metadata": {},
   "outputs": [],
   "source": [
    "with open(os.path.join(kaldi_ready_md_folder, 'text'), 'r') as text_fd:\n",
    "    text_str = text_fd.read()\n",
    "text_df = pd.DataFrame(np.array([(lambda x: (x[0], ' '.join(x[1:])))(ent.split(' ')) for ent in text_str.split('\\n') if ''!=ent])).set_index(0)\n",
    "text_df.columns = ['text']\n",
    "text_df.head()"
   ]
  },
  {
   "cell_type": "code",
   "execution_count": null,
   "metadata": {},
   "outputs": [],
   "source": [
    "set(text_df.index == wavscp_df.index)"
   ]
  },
  {
   "cell_type": "code",
   "execution_count": null,
   "metadata": {},
   "outputs": [],
   "source": [
    "parsed_df = wavscp_df.join(text_df)\n",
    "parsed_df.head()"
   ]
  },
  {
   "cell_type": "code",
   "execution_count": null,
   "metadata": {},
   "outputs": [],
   "source": [
    "def segment_by_parsed_df_raw(df_raw):\n",
    "    audio, sample_rate = sf.read(os.path.join(egg_folder_name, df_raw.wav))\n",
    "    plt.rcParams['figure.figsize'] = (15,7)\n",
    "    plt.title(f'Waveform of Audio Example: {df_raw[\"wav\"]}')\n",
    "    plt.ylabel('Amplitude')\n",
    "\n",
    "    print(df_raw['text'])\n",
    "    print(f'sample_rate: {sample_rate}')                            \n",
    "    _ = librosa.display.waveplot(audio)\n",
    "    return ipd.Audio(audio, rate=sample_rate)"
   ]
  },
  {
   "cell_type": "code",
   "execution_count": null,
   "metadata": {},
   "outputs": [],
   "source": [
    "def parsed_segment_by_idx(idx):\n",
    "    return segment_by_parsed_df_raw(parsed_df.iloc[idx])"
   ]
  },
  {
   "cell_type": "code",
   "execution_count": null,
   "metadata": {},
   "outputs": [],
   "source": [
    "! ls -l /gong-asr/kaldi-12/Domain-specific-ESPnet/espnet/egs/spanish_common_voice/asr1/data/train/downloads/comvoice/common_voice_es_19698530.wav"
   ]
  },
  {
   "cell_type": "code",
   "execution_count": null,
   "metadata": {},
   "outputs": [],
   "source": [
    "interact(parsed_segment_by_idx, idx=widgets.IntSlider(min=0, max=parsed_df.shape[0]-1, step=1, value=0));"
   ]
  },
  {
   "cell_type": "markdown",
   "metadata": {},
   "source": [
    "## json labels"
   ]
  },
  {
   "cell_type": "code",
   "execution_count": null,
   "metadata": {},
   "outputs": [],
   "source": [
    "train_json_local_path = 'dump/train_set/deltafalse/data_unigram5000.json'\n",
    "train_dev_json_local_path = 'dump/train_dev/deltafalse/data_unigram5000.json'\n",
    "test_json_local_path = 'dump/test/deltafalse/data_unigram5000.json'"
   ]
  },
  {
   "cell_type": "code",
   "execution_count": null,
   "metadata": {},
   "outputs": [],
   "source": [
    "import json"
   ]
  },
  {
   "cell_type": "code",
   "execution_count": null,
   "metadata": {},
   "outputs": [],
   "source": [
    "train_dict = json.loads(open(os.path.join(egg_folder_name, train_json_local_path),'r').read())\n",
    "train_dev_dict = json.loads(open(os.path.join(egg_folder_name, train_dev_json_local_path),'r').read())\n",
    "test_dict = json.loads(open(os.path.join(egg_folder_name, test_json_local_path),'r').read())"
   ]
  },
  {
   "cell_type": "code",
   "execution_count": null,
   "metadata": {},
   "outputs": [],
   "source": [
    "print(len(list(train_dict['utts'].keys())))\n",
    "print(len(list(train_dev_dict['utts'].keys())))\n",
    "print(len(list(test_dict['utts'].keys())))"
   ]
  },
  {
   "cell_type": "code",
   "execution_count": null,
   "metadata": {},
   "outputs": [],
   "source": [
    "list(train_dict['utts'].keys())[0]"
   ]
  },
  {
   "cell_type": "code",
   "execution_count": null,
   "metadata": {},
   "outputs": [],
   "source": [
    "train_dict['utts'][list(train_dict['utts'].keys())[0]]['utt2spk'] "
   ]
  },
  {
   "cell_type": "code",
   "execution_count": null,
   "metadata": {},
   "outputs": [],
   "source": [
    "train_spks = (lambda x: {x['utts'][k]['utt2spk'] for k in x['utts'].keys()})(train_dict)\n",
    "len(train_spks)"
   ]
  },
  {
   "cell_type": "code",
   "execution_count": null,
   "metadata": {},
   "outputs": [],
   "source": [
    "train_dev_spks = (lambda x: {x['utts'][k]['utt2spk'] for k in x['utts'].keys()})(train_dev_dict)\n",
    "len(train_dev_spks)"
   ]
  },
  {
   "cell_type": "code",
   "execution_count": null,
   "metadata": {},
   "outputs": [],
   "source": [
    "test_spks = (lambda x: {x['utts'][k]['utt2spk'] for k in x['utts'].keys()})(test_dict)\n",
    "len(test_spks)"
   ]
  },
  {
   "cell_type": "markdown",
   "metadata": {},
   "source": [
    "check there is no intersection of speekers"
   ]
  },
  {
   "cell_type": "code",
   "execution_count": null,
   "metadata": {},
   "outputs": [],
   "source": [
    "print(len(np.intersect1d(train_spks, train_dev_spks)))\n",
    "print(len(np.intersect1d(train_spks, test_spks)))\n",
    "print(len(np.intersect1d(train_dev_spks, test_spks)))"
   ]
  },
  {
   "cell_type": "code",
   "execution_count": null,
   "metadata": {},
   "outputs": [],
   "source": [
    "train_input_shapes = (lambda x: [x['utts'][k]['input'][0]['shape'] for k in x['utts'].keys()])(train_dict)\n",
    "train_output_shapes = (lambda x: [x['utts'][k]['output'][0]['shape'] for k in x['utts'].keys()])(train_dict)\n",
    "print(set(np.array(train_input_shapes).T[1])) # should be correspondent to 80 fbanks \n",
    "print(set(np.array(train_output_shapes).T[1])) # should be correspondent to 5000 subwords in the dict"
   ]
  },
  {
   "cell_type": "code",
   "execution_count": null,
   "metadata": {},
   "outputs": [],
   "source": [
    "train_dev_input_shapes = (lambda x: [x['utts'][k]['input'][0]['shape'] for k in x['utts'].keys()])(train_dev_dict)\n",
    "train_dev_output_shapes = (lambda x: [x['utts'][k]['output'][0]['shape'] for k in x['utts'].keys()])(train_dev_dict)\n",
    "print(set(np.array(train_dev_input_shapes).T[1])) # should be correspondent to 80 fbanks \n",
    "print(set(np.array(train_dev_output_shapes).T[1])) # should be correspondent to 5000 subwords in the dict"
   ]
  },
  {
   "cell_type": "code",
   "execution_count": null,
   "metadata": {},
   "outputs": [],
   "source": [
    "test_input_shapes = (lambda x: [x['utts'][k]['input'][0]['shape'] for k in x['utts'].keys()])(test_dict)\n",
    "test_output_shapes = (lambda x: [x['utts'][k]['output'][0]['shape'] for k in x['utts'].keys()])(test_dict)\n",
    "print(set(np.array(test_input_shapes).T[1])) # should be correspondent to 80 fbanks \n",
    "print(set(np.array(test_output_shapes).T[1])) # should be correspondent to 5000 subwords in the dict"
   ]
  },
  {
   "cell_type": "code",
   "execution_count": null,
   "metadata": {},
   "outputs": [],
   "source": []
  }
 ],
 "metadata": {
  "kernelspec": {
   "display_name": "Python 3",
   "language": "python",
   "name": "python3"
  },
  "language_info": {
   "codemirror_mode": {
    "name": "ipython",
    "version": 3
   },
   "file_extension": ".py",
   "mimetype": "text/x-python",
   "name": "python",
   "nbconvert_exporter": "python",
   "pygments_lexer": "ipython3",
   "version": "3.7.6"
  }
 },
 "nbformat": 4,
 "nbformat_minor": 4
}
